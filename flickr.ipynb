{
 "cells": [
  {
   "cell_type": "markdown",
   "id": "23271202",
   "metadata": {},
   "source": [
    "Retrieving information via flickr api\n",
    "---\n",
    "\n",
    "https://www.flickr.com/services/api/"
   ]
  },
  {
   "cell_type": "code",
   "execution_count": 471,
   "id": "aa756da1",
   "metadata": {},
   "outputs": [],
   "source": [
    "import flickrapi\n",
    "import webbrowser\n",
    "import json\n",
    "\n",
    "f = open(\"credentials.json\")\n",
    "creds = json.load(f)\n",
    "API_KEY = creds[\"API_KEY\"]\n",
    "API_SECRET = creds[\"API_SECRET\"]\n",
    "USER_OF_INTEREST = creds[\"USER_OF_INTEREST\"]\n",
    "OWN_USER = creds[\"OWN_USER\"]\n",
    "\n",
    "flickr = flickrapi.FlickrAPI(API_KEY, API_SECRET, format='parsed-json')\n",
    "\n",
    "# Only do this if we don't have a valid token already\n",
    "if not flickr.token_valid(perms='read'):\n",
    "\n",
    "    # Get a request token\n",
    "    flickr.get_request_token(oauth_callback='oob')\n",
    "\n",
    "    # Open a browser at the authentication URL\n",
    "    authorize_url = flickr.auth_url(perms='read')\n",
    "    webbrowser.open_new_tab(authorize_url)\n",
    "\n",
    "    # Get the verifier code from the user\n",
    "    verifier = str(input('Verifier code: '))\n",
    "\n",
    "    # Trade the request token for an access token\n",
    "    flickr.get_access_token(verifier)"
   ]
  },
  {
   "cell_type": "markdown",
   "id": "7802882e",
   "metadata": {},
   "source": [
    "# Step 1: Get the IDs of commented photos and comments\n",
    "**labeled as 1**\n",
    "\n",
    "## A) Get IDs\n",
    "\n",
    "Function: **flickr.activity.userComments**\n",
    "\n",
    "Command always retrieves **own** comments, not comments by another user "
   ]
  },
  {
   "cell_type": "code",
   "execution_count": null,
   "id": "8bcea3f9",
   "metadata": {},
   "outputs": [],
   "source": [
    "%%time\n",
    "\n",
    "flickr_activity_userComments = {}\n",
    "\n",
    "for page in range(1,99999):\n",
    "\n",
    "    flickr_activity_userComments[page] = flickr.activity.userComments(per_page = 50, page = page)\n",
    "    \n",
    "    if flickr_activity_userComments[page][\"items\"][\"total\"] == 0:\n",
    "        break\n",
    "\n",
    "# number of comments on specific page\n",
    "\n",
    "for page in flickr_activity_userComments.keys():\n",
    "    print(\"page\",page,flickr_activity_userComments[page][\"items\"][\"total\"])\n",
    "\n",
    "# the photos I commented on\n",
    "\n",
    "photo_list = []\n",
    "\n",
    "for page in flickr_activity_userComments.keys():\n",
    "    for item in flickr_activity_userComments[page][\"items\"][\"item\"]:\n",
    "        if (item[\"type\"] == \"photo\") & ((item[\"owner\"],item[\"id\"]) not in photo_list):\n",
    "            photo_list.append((item[\"owner\"],item[\"id\"]))\n",
    "            \n",
    "print(len(photo_list),\"photos were commented.\")"
   ]
  },
  {
   "cell_type": "markdown",
   "id": "f9060349",
   "metadata": {},
   "source": [
    "## B) Get comments to the photos\n",
    "\n",
    "Function: **flickr.photos.comments.getList**"
   ]
  },
  {
   "cell_type": "code",
   "execution_count": null,
   "id": "55c9c0a3",
   "metadata": {},
   "outputs": [],
   "source": [
    "%%time\n",
    "\n",
    "photo_list_with_comments = []\n",
    "\n",
    "for owner,photo_id in photo_list[:]:\n",
    "\n",
    "    comments = flickr.photos.comments.getList(photo_id = photo_id)\n",
    "\n",
    "    for com in comments[\"comments\"][\"comment\"]:\n",
    "        if com[\"author\"] == OWN_USER:\n",
    "            photo_list_with_comments.append((owner,photo_id,com[\"_content\"]))\n",
    "            \n",
    "print(len(photo_list_with_comments),\"comments were added to the list.\")"
   ]
  },
  {
   "cell_type": "code",
   "execution_count": null,
   "id": "883e01e8",
   "metadata": {},
   "outputs": [],
   "source": [
    "import pandas as pd\n",
    "\n",
    "df = pd.DataFrame(photo_list_with_comments,columns=[\"owner\",\"photo_id\",\"comment\"])\n",
    "df"
   ]
  },
  {
   "cell_type": "markdown",
   "id": "24627b39",
   "metadata": {},
   "source": [
    "# Step 2: Get images from user's groups, that were seen, but not commented \n",
    "\n",
    "**labeled as 0**\n",
    "\n",
    "Function: **flickr.people.getPublicGroups**"
   ]
  },
  {
   "cell_type": "code",
   "execution_count": 365,
   "id": "b01bec78",
   "metadata": {},
   "outputs": [
    {
     "name": "stdout",
     "output_type": "stream",
     "text": [
      "found 17 groups\n"
     ]
    },
    {
     "data": {
      "text/plain": [
       "[('14607632@N20', 'Another Planet'),\n",
       " ('2673387@N25', 'APF Magazine Street Photography Group'),\n",
       " ('1572172@N24', 'Beyond Obvious - Photomind'),\n",
       " ('4643780@N22', 'BUDAPESTREET'),\n",
       " ('2019080@N21', 'Color Street Photography 365'),\n",
       " ('2602096@N23', 'EASTREET'),\n",
       " ('472951@N22', 'Fotografi di Strada'),\n",
       " ('474929@N22', 'Fotografía en cuarentena  [nombre de calle]'),\n",
       " ('1840958@N20', 'Gazpacho Photography'),\n",
       " ('94761711@N00', 'HCSP (Hardcore Street Photography)'),\n",
       " ('2746094@N20', 'InQuadra Street Photography Evolution'),\n",
       " ('868185@N20', 'la familia abrazada'),\n",
       " ('2995645@N25', 'Rambles'),\n",
       " ('1363754@N20', 'Small Growers Street Association'),\n",
       " ('2570428@N22', 'Street Minimalism | Color |'),\n",
       " ('1812671@N25', \"Street Photographers' Salon\"),\n",
       " ('1699853@N22', 'un-posed.com')]"
      ]
     },
     "execution_count": 365,
     "metadata": {},
     "output_type": "execute_result"
    }
   ],
   "source": [
    "groups = flickr.people.getPublicGroups(user_id=OWN_USER,invitation_only=True)\n",
    "groups = [(group[\"nsid\"],group[\"name\"]) for group in groups[\"groups\"][\"group\"]]\n",
    "print(\"found\",len(groups),\"groups\")"
   ]
  },
  {
   "cell_type": "code",
   "execution_count": 421,
   "id": "2ebefc87",
   "metadata": {},
   "outputs": [
    {
     "name": "stdout",
     "output_type": "stream",
     "text": [
      "Another Planet => 384 photos\n",
      "APF Magazine Street Photography Group => 616 photos\n",
      "Beyond Obvious - Photomind => 1864 photos\n",
      "BUDAPESTREET => 0 photos\n",
      "Color Street Photography 365 => 1405 photos\n",
      "EASTREET => 408 photos\n",
      "Fotografi di Strada => 298 photos\n",
      "Fotografía en cuarentena  [nombre de calle] => 2693 photos\n",
      "Gazpacho Photography => 68 photos\n",
      "HCSP (Hardcore Street Photography) => 3436 photos\n",
      "InQuadra Street Photography Evolution => 1314 photos\n",
      "la familia abrazada => 2783 photos\n",
      "Rambles => 179 photos\n",
      "Small Growers Street Association => 268 photos\n",
      "Street Minimalism | Color | => 1439 photos\n",
      "Street Photographers' Salon => 1257 photos\n",
      "un-posed.com => 1704 photos\n",
      "CPU times: user 779 ms, sys: 71.1 ms, total: 850 ms\n",
      "Wall time: 2min 2s\n"
     ]
    }
   ],
   "source": [
    "%%time\n",
    "\n",
    "group_photos = {}\n",
    "\n",
    "for group_id,group_name in groups:\n",
    "\n",
    "    for page in range (1,9999):\n",
    "\n",
    "        try:\n",
    "            len_before = len(group_photos.get(group_id))\n",
    "        except:\n",
    "            len_before = 0\n",
    "\n",
    "        result = flickr.photos.search(group_id = group_id, per_page=500, page=page)\n",
    "        found_photos = [(photo[\"owner\"],photo[\"id\"]) for photo in result[\"photos\"][\"photo\"] if (photo[\"owner\"],photo[\"id\"]) not in group_photos]\n",
    "\n",
    "        if len_before == 0:\n",
    "            group_photos[group_id] = found_photos\n",
    "        else:\n",
    "            group_photos[group_id] = group_photos.get(group_id) + found_photos\n",
    "\n",
    "        len_after = len(group_photos.get(group_id))\n",
    "\n",
    "        if len_after == len_before:\n",
    "            break\n",
    "\n",
    "    print(group_name,\"=>\",len(group_photos.get(group_id)),\"photos\")"
   ]
  },
  {
   "cell_type": "code",
   "execution_count": 431,
   "id": "35eafc5b",
   "metadata": {},
   "outputs": [
    {
     "name": "stdout",
     "output_type": "stream",
     "text": [
      "16116 photos from groups added.\n",
      "\n",
      "CPU times: user 6.3 s, sys: 0 ns, total: 6.3 s\n",
      "Wall time: 6.31 s\n"
     ]
    }
   ],
   "source": [
    "%%time\n",
    "\n",
    "# make 1 list with all photos no matter which group they, and drop duplicates\n",
    "\n",
    "photo_list_groups = []\n",
    "\n",
    "for group in group_photos:\n",
    "    for photo in group_photos[group]:\n",
    "        if photo not in photo_list_groups:\n",
    "            photo_list_groups.append(photo)\n",
    "            \n",
    "print(len(photo_list_groups),\"photos from groups added.\\n\")"
   ]
  },
  {
   "cell_type": "code",
   "execution_count": null,
   "id": "420c9366",
   "metadata": {},
   "outputs": [],
   "source": [
    "df_groups = pd.DataFrame(photo_list_groups,columns=[\"owner\",\"photo_id\"])\n",
    "df_groups"
   ]
  },
  {
   "cell_type": "markdown",
   "id": "8ab4d448",
   "metadata": {},
   "source": [
    "# Step 3: Merge the two lists and save to disk"
   ]
  },
  {
   "cell_type": "markdown",
   "id": "875b4dfa",
   "metadata": {},
   "source": [
    "**Uncomment what's needed**"
   ]
  },
  {
   "cell_type": "code",
   "execution_count": 437,
   "id": "b793a6e4",
   "metadata": {},
   "outputs": [],
   "source": [
    "df_all = pd.concat([df,df_groups],sort=False)\n",
    "df_all = df_all.drop_duplicates([\"owner\",\"photo_id\"],keep=\"first\")\n",
    "\n",
    "#df_all.to_csv(\"./data/flickr.csv\",sep=\"\\t\",index=False)\n",
    "#df_all=pd.read_csv(\"./data/flickr.csv\",sep=\"\\t\")\n",
    "\n",
    "photo_list_all = [tuple(row) for row in df_all[[\"owner\",\"photo_id\"]].values]"
   ]
  },
  {
   "cell_type": "markdown",
   "id": "edac10a5",
   "metadata": {},
   "source": [
    "# Step 4: Download all the images in JPG"
   ]
  },
  {
   "cell_type": "code",
   "execution_count": null,
   "id": "b07a8831",
   "metadata": {},
   "outputs": [],
   "source": [
    "#pip install httplib2\n",
    "#pip install bs4\n",
    "#pip install urllib3\n",
    "\n",
    "import httplib2\n",
    "from bs4 import BeautifulSoup #, SoupStrainer\n",
    "import urllib.request\n",
    "\n",
    "class Extractor():\n",
    "\n",
    "    \n",
    "    def get_links(self, url):\n",
    "\n",
    "        http = httplib2.Http()\n",
    "        response, content = http.request(url)\n",
    "\n",
    "        images =  BeautifulSoup(content).find_all('img')\n",
    "\n",
    "        image_links=[]\n",
    "\n",
    "        for image in images:\n",
    "            image_links.append(image['src'])\n",
    "        \n",
    "        return image_links\n",
    "\n",
    "    \n",
    "    def get_images(self, image_links, filename):\n",
    "        \n",
    "        for link in image_links:\n",
    "                       \n",
    "            image_url = \"https:\" + link    \n",
    "            if link[-6:] == \"_n.jpg\":\n",
    "                urllib.request.urlretrieve(image_url, filename=\"./img_data/sm/\"+filename)\n",
    "            \n",
    "            else:            \n",
    "                urllib.request.urlretrieve(image_url, filename=\"./img_data/md/\"+filename)"
   ]
  },
  {
   "cell_type": "markdown",
   "id": "f8d7584d",
   "metadata": {},
   "source": [
    "## Download\n",
    "\n",
    "incl. check whether or not images are already present in the folder"
   ]
  },
  {
   "cell_type": "code",
   "execution_count": null,
   "id": "39ccf9d1",
   "metadata": {},
   "outputs": [],
   "source": [
    "%%time\n",
    "\n",
    "import os\n",
    "\n",
    "file_path = \"./img_data/md/\"\n",
    "files = os.listdir(file_path)\n",
    "photo_list_missing = [photo for photo in photo_list_all if photo[1]+\".jpg\" not in files]\n",
    "\n",
    "baseurl = \"https://www.flickr.com/photos/\"\n",
    "\n",
    "for i in photo_list_missing[:]:\n",
    "    url = f\"\"\"{baseurl}{i[0]}/{i[1]}\"\"\"\n",
    "    filename = i[1] + \".jpg\"\n",
    "    myextractor = Extractor()\n",
    "    image_links = myextractor.get_links(url)\n",
    "    myextractor.get_images(image_links, filename)"
   ]
  },
  {
   "cell_type": "markdown",
   "id": "f09f73ab",
   "metadata": {},
   "source": [
    "# Next Step: pre-process images\n",
    "\n",
    "1) Crop/Scale to same dimensions  \n",
    "2) Drop portrait and square format images"
   ]
  }
 ],
 "metadata": {
  "kernelspec": {
   "display_name": "Python 3 (ipykernel)",
   "language": "python",
   "name": "python3"
  },
  "language_info": {
   "codemirror_mode": {
    "name": "ipython",
    "version": 3
   },
   "file_extension": ".py",
   "mimetype": "text/x-python",
   "name": "python",
   "nbconvert_exporter": "python",
   "pygments_lexer": "ipython3",
   "version": "3.9.0"
  }
 },
 "nbformat": 4,
 "nbformat_minor": 5
}
