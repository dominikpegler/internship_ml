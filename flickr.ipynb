{
 "cells": [
  {
   "cell_type": "markdown",
   "id": "23271202",
   "metadata": {},
   "source": [
    "Retrieving information via flickr api\n",
    "---\n",
    "\n",
    "https://www.flickr.com/services/api/"
   ]
  },
  {
   "cell_type": "code",
   "execution_count": null,
   "id": "aa756da1",
   "metadata": {},
   "outputs": [],
   "source": [
    "import flickrapi\n",
    "import webbrowser\n",
    "import json\n",
    "\n",
    "f = open(\"credentials.json\")\n",
    "creds = json.load(f)\n",
    "API_KEY = creds[\"API_KEY\"]\n",
    "API_SECRET = creds[\"API_SECRET\"]\n",
    "USER_OF_INTEREST = creds[\"USER_OF_INTEREST\"]\n",
    "OWN_USER = creds[\"OWN_USER\"]\n",
    "\n",
    "flickr = flickrapi.FlickrAPI(API_KEY, API_SECRET, format='parsed-json')\n",
    "\n",
    "# Only do this if we don't have a valid token already\n",
    "if not flickr.token_valid(perms='read'):\n",
    "\n",
    "    # Get a request token\n",
    "    flickr.get_request_token(oauth_callback='oob')\n",
    "\n",
    "    # Open a browser at the authentication URL\n",
    "    authorize_url = flickr.auth_url(perms='read')\n",
    "    webbrowser.open_new_tab(authorize_url)\n",
    "\n",
    "    # Get the verifier code from the user\n",
    "    verifier = str(input('Verifier code: '))\n",
    "\n",
    "    # Trade the request token for an access token\n",
    "    flickr.get_access_token(verifier)"
   ]
  },
  {
   "cell_type": "markdown",
   "id": "7802882e",
   "metadata": {},
   "source": [
    "# Step 1: get the ids of photos that were commented \n",
    "## flickr.activity.userComments\n",
    "\n",
    "Command always retrieves **own** comments, not comments by another user "
   ]
  },
  {
   "cell_type": "code",
   "execution_count": null,
   "id": "8bcea3f9",
   "metadata": {},
   "outputs": [],
   "source": [
    "%%time\n",
    "\n",
    "flickr_activity_userComments = {}\n",
    "\n",
    "for page in range(1,99999):\n",
    "\n",
    "    flickr_activity_userComments[page] = flickr.activity.userComments(per_page = 50, page = page)\n",
    "    \n",
    "    if flickr_activity_userComments[page][\"items\"][\"total\"] == 0:\n",
    "        break\n",
    "\n",
    "# number of comments on specific page\n",
    "\n",
    "for page in flickr_activity_userComments.keys():\n",
    "    print(\"page\",page,flickr_activity_userComments[page][\"items\"][\"total\"])\n",
    "\n",
    "# the photos I commented on\n",
    "\n",
    "photo_list = []\n",
    "\n",
    "for page in flickr_activity_userComments.keys():\n",
    "    for item in flickr_activity_userComments[page][\"items\"][\"item\"]:\n",
    "        if (item[\"type\"] == \"photo\") & ((item[\"owner\"],item[\"id\"]) not in photo_list):\n",
    "            photo_list.append((item[\"owner\"],item[\"id\"]))\n",
    "            \n",
    "print(len(photo_list),\"photos were commented.\")"
   ]
  },
  {
   "cell_type": "markdown",
   "id": "f9060349",
   "metadata": {},
   "source": [
    "# Step 2: get comments on photos\n",
    "\n",
    "## flickr.photos.comments.getList"
   ]
  },
  {
   "cell_type": "code",
   "execution_count": null,
   "id": "883e01e8",
   "metadata": {},
   "outputs": [],
   "source": [
    "%%time\n",
    "\n",
    "photo_list_with_comments = []\n",
    "\n",
    "for owner,photo_id in photo_list[:]:\n",
    "\n",
    "    comments = flickr.photos.comments.getList(photo_id = photo_id)\n",
    "\n",
    "    for com in comments[\"comments\"][\"comment\"]:\n",
    "        if com[\"author\"] == OWN_USER:\n",
    "            photo_list_with_comments.append((owner,photo_id,com[\"_content\"]))\n",
    "            \n",
    "print(len(photo_list_with_comments),\"comments were added to the list.\")"
   ]
  },
  {
   "cell_type": "code",
   "execution_count": null,
   "id": "e38a801c",
   "metadata": {},
   "outputs": [],
   "source": [
    "import pandas as pd\n",
    "\n",
    "pd.DataFrame(photo_list_with_comments,columns=[\"owner\",\"photo_id\",\"comment\"])"
   ]
  },
  {
   "cell_type": "markdown",
   "id": "edac10a5",
   "metadata": {},
   "source": [
    "# Step 3: get the images in jpg"
   ]
  },
  {
   "cell_type": "code",
   "execution_count": null,
   "id": "b07a8831",
   "metadata": {},
   "outputs": [],
   "source": [
    "#pip install httplib2\n",
    "#pip install bs4\n",
    "#pip install urllib3\n",
    "\n",
    "import httplib2\n",
    "from bs4 import BeautifulSoup #, SoupStrainer\n",
    "import urllib.request\n",
    "\n",
    "class Extractor():\n",
    "\n",
    "    \n",
    "    def get_links(self, url):\n",
    "\n",
    "        http = httplib2.Http()\n",
    "        response, content = http.request(url)\n",
    "\n",
    "        images =  BeautifulSoup(content).find_all('img')\n",
    "\n",
    "        image_links=[]\n",
    "\n",
    "        for image in images:\n",
    "            image_links.append(image['src'])\n",
    "        \n",
    "        return image_links\n",
    "\n",
    "    \n",
    "    def get_images(self, image_links, filename):\n",
    "        \n",
    "        for link in image_links:\n",
    "                       \n",
    "            image_url = \"https:\" + link    \n",
    "            if link[-6:] == \"_n.jpg\":\n",
    "                urllib.request.urlretrieve(image_url, filename=\"./img_data/sm/\"+filename)\n",
    "            \n",
    "            else:            \n",
    "                urllib.request.urlretrieve(image_url, filename=\"./img_data/md/\"+filename)"
   ]
  },
  {
   "cell_type": "code",
   "execution_count": null,
   "id": "59499eb9",
   "metadata": {
    "scrolled": true
   },
   "outputs": [],
   "source": [
    "%%time\n",
    "\n",
    "baseurl = \"https://www.flickr.com/photos/\"\n",
    "\n",
    "for i in photo_list_with_comments[:]:\n",
    "    url = f\"\"\"{baseurl}{i[0]}/{i[1]}\"\"\"\n",
    "    print(url)\n",
    "    filename = i[1] + \".jpg\"\n",
    "    myextractor = Extractor()\n",
    "    image_links = myextractor.get_links(url)\n",
    "    myextractor.get_images(image_links, filename)"
   ]
  }
 ],
 "metadata": {
  "kernelspec": {
   "display_name": "Python 3 (ipykernel)",
   "language": "python",
   "name": "python3"
  },
  "language_info": {
   "codemirror_mode": {
    "name": "ipython",
    "version": 3
   },
   "file_extension": ".py",
   "mimetype": "text/x-python",
   "name": "python",
   "nbconvert_exporter": "python",
   "pygments_lexer": "ipython3",
   "version": "3.9.0"
  }
 },
 "nbformat": 4,
 "nbformat_minor": 5
}
