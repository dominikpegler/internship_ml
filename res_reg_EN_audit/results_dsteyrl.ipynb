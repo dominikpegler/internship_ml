{
 "cells": [
  {
   "cell_type": "markdown",
   "id": "0a962495-e316-481e-9422-42d2b8d7afcf",
   "metadata": {
    "tags": []
   },
   "source": [
    "Results\n",
    "---\n",
    "\n",
    "*Script von David Steyrl*\n",
    "\n",
    "01.05.2022  \n",
    "* Dataset: \"complete\" (50 features):  \n",
    "    * 23 items of FFMQ  \n",
    "    * 20 items of UPPS-P  \n",
    "    * 5 items of DMQ-coping  \n",
    "    * 1 item for weekly working hours  \n",
    "    * 1 item for sex \n",
    "    \n",
    "* Tested regressor:\n",
    "    * ElasticNet\n",
    "    \n",
    "* Cross validation:\n",
    "    * 50 shuffle splits outer loop\n",
    "    * 50 shuffle splits inner loop with bayesian hyperparameter optimization"
   ]
  },
  {
   "cell_type": "markdown",
   "id": "840e43b7-6125-4ffc-8098-4703d0e3dc79",
   "metadata": {
    "tags": []
   },
   "source": [
    "## model scores\n",
    "\n",
    "```ElasticNet  => mean R²: 0.315```\n",
    "\n",
    "Zum Vergleich (08.04.): ```ElasticNet  => mean R²: 0.332 (train: 0.418)```"
   ]
  },
  {
   "cell_type": "code",
   "execution_count": 1,
   "id": "bdac19fa-4734-4b41-8f51-954ecd2c1f78",
   "metadata": {},
   "outputs": [
    {
     "name": "stdout",
     "output_type": "stream",
     "text": [
      "      mae     mse     R2\n",
      "0   2.714  12.874  0.417\n",
      "1   2.882  16.237  0.401\n",
      "2   2.835  14.415  0.321\n",
      "3   2.766  13.332  0.364\n",
      "4   2.731  13.936  0.373\n",
      "5   2.312   9.760  0.227\n",
      "6   2.894  15.330  0.295\n",
      "7   2.760  14.055  0.310\n",
      "8   2.548  10.873  0.234\n",
      "9   2.936  15.501  0.312\n",
      "10  2.853  15.542  0.275\n",
      "11  2.937  17.592  0.325\n",
      "12  2.689  13.044  0.338\n",
      "13  2.732  11.797  0.247\n",
      "14  2.955  14.992  0.287\n",
      "15  2.741  11.885  0.219\n",
      "16  2.845  15.181  0.408\n",
      "17  2.303  11.337  0.455\n",
      "18  2.613  14.052  0.313\n",
      "19  2.663  13.018  0.307\n",
      "20  2.678  11.234  0.234\n",
      "21  2.402   8.615  0.256\n",
      "22  2.757  12.711  0.323\n",
      "23  2.791  15.830  0.356\n",
      "24  2.761  12.956  0.311\n",
      "25  2.906  16.279  0.308\n",
      "26  2.723  11.725  0.158\n",
      "27  2.698  13.333  0.302\n",
      "28  2.727  13.678  0.287\n",
      "29  2.920  15.801  0.357\n",
      "30  2.821  12.600  0.026\n",
      "31  2.400   9.562  0.343\n",
      "32  2.477   9.589  0.260\n",
      "33  2.417   9.704  0.394\n",
      "34  2.666  12.289  0.367\n",
      "35  2.817  16.782  0.395\n",
      "36  2.813  13.701  0.224\n",
      "37  2.519  11.376  0.300\n",
      "38  3.316  22.035  0.259\n",
      "39  3.022  16.173  0.368\n",
      "40  2.997  16.355  0.388\n",
      "41  2.778  15.118  0.411\n",
      "42  3.025  17.150  0.377\n",
      "43  2.901  18.727  0.357\n",
      "44  3.050  18.797  0.369\n",
      "45  2.982  16.954  0.337\n",
      "46  2.661  14.479  0.330\n",
      "47  2.739  12.705  0.387\n",
      "48  2.674  12.101  0.197\n",
      "49  2.961  15.285  0.328\n",
      "\n",
      "means:\n",
      "mae     2.762192\n",
      "mse    13.967939\n",
      "R2      0.314753\n",
      "dtype: float64\n"
     ]
    }
   ],
   "source": [
    "import pickle\n",
    "import pandas as pd\n",
    "  \n",
    "# Open the file in binary mode\n",
    "with open('results_audit.pickle', 'rb') as fo:\n",
    "      \n",
    "    # Call load method to deserialze\n",
    "    results = pickle.load(fo)\n",
    "    \n",
    "#print(\"results keys:\",results.keys(),\"\\n\")\n",
    "\n",
    "df_scores = pd.DataFrame(results[\"scores\"]).apply(lambda row: pd.Series({\"mae\":row[0][0],\"mse\":row[1][0],\"R2\":row[2][0]}),axis=1)\n",
    "print(df_scores.round(3))\n",
    "print(\"\\nmeans:\")\n",
    "print(df_scores.mean())"
   ]
  },
  {
   "cell_type": "markdown",
   "id": "972e0080-0361-4d68-9ad4-437e70364734",
   "metadata": {},
   "source": [
    "## plots"
   ]
  },
  {
   "cell_type": "markdown",
   "id": "74fb5e0c-df1c-416a-9c3f-5ae08194339d",
   "metadata": {},
   "source": [
    "```EN_fit_reg_violin_audit```"
   ]
  },
  {
   "cell_type": "markdown",
   "id": "6d3e5a2a-e58f-46d9-8879-ff2fc07f3507",
   "metadata": {},
   "source": [
    "<img src='plots_audit/EN_fit_reg_violin_audit.png' alt=\"plot\" width=\"600\">"
   ]
  },
  {
   "cell_type": "markdown",
   "id": "ac3d13d4-3784-4619-8b60-724fec95e142",
   "metadata": {},
   "source": [
    "```EN_fit_scatter_audit```"
   ]
  },
  {
   "cell_type": "markdown",
   "id": "18b43751-255c-4988-972b-fc13c9985a08",
   "metadata": {},
   "source": [
    "<img src='plots_audit/EN_fit_scatter_audit.png' alt=\"plot\" width=\"600\">"
   ]
  },
  {
   "cell_type": "markdown",
   "id": "75f3698e-6f1d-4b4d-9080-968060c39eb5",
   "metadata": {},
   "source": [
    "```EN_m_imp_audit```"
   ]
  },
  {
   "cell_type": "markdown",
   "id": "79a0971f-dcec-47a7-aa28-336c10d4adfc",
   "metadata": {},
   "source": [
    "<img src='plots_audit/EN_m_imp_audit.png' alt=\"plot\" width=\"600\">"
   ]
  },
  {
   "cell_type": "markdown",
   "id": "48f4a6a4-30bd-4f3d-a0ad-57cf9f40c16c",
   "metadata": {},
   "source": [
    "```EN_p_imp_audit```"
   ]
  },
  {
   "cell_type": "markdown",
   "id": "2ee838cd-7c6a-4ee4-a9b9-ee6e196d1381",
   "metadata": {},
   "source": [
    "<img src='plots_audit/EN_p_imp_audit.png' alt=\"plot\" width=\"600\">"
   ]
  },
  {
   "cell_type": "markdown",
   "id": "deb7c91b-c0ce-4f37-a3bb-8e5405ae075e",
   "metadata": {},
   "source": [
    "```EN_s_imp_audit```"
   ]
  },
  {
   "cell_type": "markdown",
   "id": "81e9a8ce-2222-4e1f-ba58-95c5829253e9",
   "metadata": {},
   "source": [
    "<img src='plots_audit/EN_s_imp_audit.png' alt=\"plot\" width=\"600\">"
   ]
  },
  {
   "cell_type": "markdown",
   "id": "ba3a4ac4-5590-4176-8a89-498720391655",
   "metadata": {},
   "source": [
    "```EN_shape_values_audit```"
   ]
  },
  {
   "cell_type": "markdown",
   "id": "a1e08cfb-2254-4103-b731-e57e176af15b",
   "metadata": {},
   "source": [
    "<img src='plots_audit/EN_shape_values_audit.png' alt=\"plot\" width=\"600\">"
   ]
  },
  {
   "cell_type": "markdown",
   "id": "49bff18a-73fd-4362-932d-57df3810f2e4",
   "metadata": {},
   "source": [
    "## script output"
   ]
  },
  {
   "cell_type": "markdown",
   "id": "4d1e433a-b7d5-437b-986c-cd90282baff3",
   "metadata": {},
   "source": [
    "... was not logged ..."
   ]
  },
  {
   "cell_type": "markdown",
   "id": "f6580f32",
   "metadata": {},
   "source": []
  }
 ],
 "metadata": {
  "kernelspec": {
   "display_name": "Python 3 (ipykernel)",
   "language": "python",
   "name": "python3"
  },
  "language_info": {
   "codemirror_mode": {
    "name": "ipython",
    "version": 3
   },
   "file_extension": ".py",
   "mimetype": "text/x-python",
   "name": "python",
   "nbconvert_exporter": "python",
   "pygments_lexer": "ipython3",
   "version": "3.9.7"
  }
 },
 "nbformat": 4,
 "nbformat_minor": 5
}
